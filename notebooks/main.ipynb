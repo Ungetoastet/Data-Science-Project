{
 "cells": [
  {
   "cell_type": "markdown",
   "metadata": {},
   "source": [
    "# Data Science Projekt Robert Scheer\n",
    "\n",
    "## Einleitung\n",
    "\n",
    "In diesem Projekt werden Flugdaten amerikanischer Inlandsfluege von 2018 bis 2022 untersucht.\n",
    "Das Datenset beinhaltet ueber 26 Millionen Fluege, jeweils mit Start und Zielflughafen, Airline, Flugnummer und Start- und Landeverspaetung.\n",
    "\n",
    "*Wenn in diesem Projekt von Verspaetung geredet wird, ist ab hier die Landeverspaetung gemeint, da diese fuer Kunden bzw Passagiere ausschlaggebender ist.*\n",
    "\n",
    "Genauer gesagt werden folgende Hypothesen ueberprueft:\n",
    "\n",
    "1. Fluege im Winter haben haeufiger Verspaetungen.\n",
    "2. Langstreckefluege haben weniger Verspaetungen als Kurzstreckenfluege.\n",
    "3. Fluege mit grossen Zielflughaefen haben, falls sie Verspaetungen haben, groessere Verspaetungen als Fluege mit kleineren Zielflughaefen.\n",
    "\n",
    "Aussderdem wird untersucht, ob die Verspaetung eines Flugs mittels eines Neuronalen Netz vorhersagbar ist.\n",
    "Es wird auch untersucht, welche Merkmale ausschlaggebend sind."
   ]
  },
  {
   "cell_type": "markdown",
   "metadata": {},
   "source": [
    "## Imports\n",
    "\n",
    "Zuerst werden die benoetigten Module importiert.\n",
    "Das src Modul implementiert Methoden, die spezifisch fuer das Projekt erstellt wurden.\n",
    "Damit das src Modul importiert werden kann, muss der Ordner zum path hinzugefuegt werden."
   ]
  },
  {
   "cell_type": "code",
   "execution_count": 1,
   "metadata": {},
   "outputs": [],
   "source": [
    "import sys\n",
    "import os\n",
    "import random\n",
    "\n",
    "sys.path.append(os.path.abspath(os.path.join(os.path.abspath(\".\"), \"..\"))) # Wird nach Ausfuerung zurueckgesetzt"
   ]
  },
  {
   "cell_type": "markdown",
   "metadata": {},
   "source": [
    "## Laden der Daten\n",
    "\n",
    "Hier wird der Datensatz zuerst als zip datei runtergeladen, dann exportiert und gefiltert.\n",
    "Der Download betraegt ca. 4GB, es kann also eine Weile dauern, bis er fertig heruntergeladen ist.\n",
    "\n",
    "Beim Filtern werden ueberfluessige Spalten aus den Daten geloescht, um die Groesse des Datensatzes zu reduzieren.\n",
    "Dabei geht die Groesse des extrahierten Datensatzes von 9GB auf 4.5GB herunter."
   ]
  },
  {
   "cell_type": "code",
   "execution_count": 2,
   "metadata": {},
   "outputs": [
    {
     "name": "stdout",
     "output_type": "stream",
     "text": [
      "Skipping download...\n",
      "Skipping extraction...\n",
      "Skipping filtration...\n",
      "Loading full dataset...\n"
     ]
    },
    {
     "name": "stderr",
     "output_type": "stream",
     "text": [
      "                                                                                    \r"
     ]
    },
    {
     "name": "stdout",
     "output_type": "stream",
     "text": [
      "Loaded 29193782 flights!\n"
     ]
    }
   ],
   "source": [
    "import src.data.folders\n",
    "import src.data.download\n",
    "import src.data.extract\n",
    "import src.data.filter\n",
    "import src.data.loading\n",
    "\n",
    "src.data.folders.dataset_folders()\n",
    "src.data.download.dataset_download()\n",
    "src.data.extract.dataset_extract()\n",
    "src.data.filter.dataset_filter()\n",
    "\n",
    "data = src.data.loading.load_all()"
   ]
  },
  {
   "cell_type": "markdown",
   "metadata": {},
   "source": [
    "# Visualisierungen\n",
    "\n",
    "Hier wird der Datensatz visualiert, um ein Gefuehl fuer die Daten zu bekommen."
   ]
  },
  {
   "cell_type": "code",
   "execution_count": 3,
   "metadata": {},
   "outputs": [
    {
     "name": "stdout",
     "output_type": "stream",
     "text": [
      "Zufaellig ausgewaehlter Datenpunkt: \n",
      "FlightDate: 2019-01-04\n",
      "Airline: Compass Airlines\n",
      "Cancelled: False\n",
      "Diverted: False\n",
      "CRSDepTime: 1705\n",
      "DepTime: 1702.0\n",
      "DepDelay: -3.0\n",
      "ArrTime: 1946.0\n",
      "ArrDelay: -10.0\n",
      "AirTime: 83.0\n",
      "CRSElapsedTime: 111.0\n",
      "ActualElapsedTime: 104.0\n",
      "Distance: 677.0\n",
      "DayOfWeek: 5\n",
      "Operating_Airline: CP\n",
      "Tail_Number: N210NN\n",
      "Flight_Number_Operating_Airline: 6027\n",
      "OriginCityName: Los Angeles, CA\n",
      "OriginStateName: California\n",
      "DestCityName: Albuquerque, NM\n",
      "DestStateName: New Mexico\n",
      "CRSArrTime: 1956\n"
     ]
    },
    {
     "data": {
      "text/plain": [
       "[None,\n",
       " None,\n",
       " None,\n",
       " None,\n",
       " None,\n",
       " None,\n",
       " None,\n",
       " None,\n",
       " None,\n",
       " None,\n",
       " None,\n",
       " None,\n",
       " None,\n",
       " None,\n",
       " None,\n",
       " None,\n",
       " None,\n",
       " None,\n",
       " None,\n",
       " None,\n",
       " None,\n",
       " None]"
      ]
     },
     "execution_count": 3,
     "metadata": {},
     "output_type": "execute_result"
    }
   ],
   "source": [
    "print(\"Zufaellig ausgewaehlter Datenpunkt: \")\n",
    "[print(f\"{col}: {val}\") for col, val in data.iloc[random.randint(0, len(data)-1)].items()]"
   ]
  }
 ],
 "metadata": {
  "kernelspec": {
   "display_name": ".venv",
   "language": "python",
   "name": "python3"
  },
  "language_info": {
   "codemirror_mode": {
    "name": "ipython",
    "version": 3
   },
   "file_extension": ".py",
   "mimetype": "text/x-python",
   "name": "python",
   "nbconvert_exporter": "python",
   "pygments_lexer": "ipython3",
   "version": "3.10.11"
  }
 },
 "nbformat": 4,
 "nbformat_minor": 2
}
